{
 "cells": [
  {
   "cell_type": "markdown",
   "id": "69e314ec-fa8d-4a5f-b818-4d6c6a36b5fe",
   "metadata": {},
   "source": [
    "# Data Science Tools and Ecosystem"
   ]
  },
  {
   "cell_type": "markdown",
   "id": "32cbadc1-1e63-42f8-b3b1-65f3fad7e5ec",
   "metadata": {},
   "source": [
    "In this notebook, Data Science Tools and Ecosystem are summarized."
   ]
  },
  {
   "cell_type": "markdown",
   "id": "b7fc3887-8f47-4e8f-a072-24745c40e0f1",
   "metadata": {},
   "source": [
    "**Objectives:**\n",
    "- popular languages used in data science\n",
    "- commonly used libraries in data science\n",
    "- Data science tools\n",
    "- Arithmetic examples"
   ]
  },
  {
   "cell_type": "markdown",
   "id": "871d0afb-2755-4952-9e25-5596923694dc",
   "metadata": {},
   "source": [
    "Some of the popular languages that Data Scientists use are:\n",
    "1. Python\n",
    "2. R\n",
    "3. Julia"
   ]
  },
  {
   "cell_type": "markdown",
   "id": "a43d878a-982d-478e-b4a2-0d3403131165",
   "metadata": {},
   "source": [
    "Some of the commonly used libraries used by Data Scientists include:\n",
    "1. NumPy\n",
    "2. Pandas\n",
    "3. ggplot\n"
   ]
  },
  {
   "cell_type": "markdown",
   "id": "0ac298c2-4d7e-4090-bf6a-f4c566199820",
   "metadata": {},
   "source": [
    "| Data Science Tools |\n",
    "| ------------------ |\n",
    "| Rstudio |\n",
    "| MySQL |\n",
    "| Apache Spark |\n"
   ]
  },
  {
   "cell_type": "markdown",
   "id": "53d0a266-ca0a-475c-8b11-2a8479c7e651",
   "metadata": {},
   "source": [
    "### Below are a few examples of evaluating arithmetic expressions in Python"
   ]
  },
  {
   "cell_type": "code",
   "execution_count": 1,
   "id": "3631ed76-2495-4aa6-bc80-3119a498402f",
   "metadata": {
    "tags": []
   },
   "outputs": [
    {
     "data": {
      "text/plain": [
       "17"
      ]
     },
     "execution_count": 1,
     "metadata": {},
     "output_type": "execute_result"
    }
   ],
   "source": [
    "#This a simple arithmetic expression to mutiply then add integers\n",
    "(3*4)+5"
   ]
  },
  {
   "cell_type": "code",
   "execution_count": 2,
   "id": "b787f937-a6c3-49a4-ae37-7e19faf18f49",
   "metadata": {
    "tags": []
   },
   "outputs": [
    {
     "data": {
      "text/plain": [
       "3.3333333333333335"
      ]
     },
     "execution_count": 2,
     "metadata": {},
     "output_type": "execute_result"
    }
   ],
   "source": [
    "#This will convert 200 minutes to hours by diving by 60\n",
    "200/60"
   ]
  },
  {
   "cell_type": "markdown",
   "id": "2b4be2fd-cee2-4fc7-8af1-aabfbc191936",
   "metadata": {},
   "source": [
    "## Author\n",
    "Majdouline"
   ]
  },
  {
   "cell_type": "code",
   "execution_count": null,
   "id": "943f68b3-a94e-4f2f-b2e6-42ffc41d843d",
   "metadata": {},
   "outputs": [],
   "source": []
  }
 ],
 "metadata": {
  "kernelspec": {
   "display_name": "Python",
   "language": "python",
   "name": "conda-env-python-py"
  },
  "language_info": {
   "codemirror_mode": {
    "name": "ipython",
    "version": 3
   },
   "file_extension": ".py",
   "mimetype": "text/x-python",
   "name": "python",
   "nbconvert_exporter": "python",
   "pygments_lexer": "ipython3",
   "version": "3.7.12"
  }
 },
 "nbformat": 4,
 "nbformat_minor": 5
}
